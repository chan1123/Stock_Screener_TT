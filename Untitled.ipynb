{
 "cells": [
  {
   "cell_type": "code",
   "execution_count": 23,
   "metadata": {},
   "outputs": [],
   "source": [
    "import requests, os, time\n",
    "import pandas as pd\n",
    "import numpy as np\n",
    "from scraping_headers import finviz_headers, base_url, mm_params, position, technical_numeric_list, technical_percentage_list\n",
    "from scraping_misc import parse_total_stocks, return_filename\n",
    "from bs4 import BeautifulSoup\n",
    "\n",
    "def return_single_table_from_finviz(position, base_url, parameters, show_stocks=False):\n",
    "    \"\"\"\n",
    "    Submit requests to finviz and scrap only one stock table\n",
    "    \"\"\"\n",
    "    r = requests.get(url=base_url,\n",
    "                     params=parameters,\n",
    "                     headers=finviz_headers)\n",
    "\n",
    "    dfs = pd.read_html(r.text)\n",
    "    finviz_headers['Referer'] = r.url\n",
    "\n",
    "    if True == show_stocks:\n",
    "        total = parse_total_stocks(dfs[position-1])\n",
    "        return dfs[position], total\n",
    "    return dfs[position]\n",
    "\n",
    "def scrap_TT():\n",
    "\n",
    "    filename = return_filename()\n",
    "    if os.path.isfile(filename):\n",
    "        return pd.read_csv(filename, index_col='Ticker')\n",
    "\n",
    "    trial = return_single_table_from_finviz(position, base_url, mm_params, True)\n",
    "    total = trial[1]\n",
    "\n",
    "    results = trial[0]\n",
    "    print(total)\n",
    "    total = 60\n",
    "\n",
    "    for _ in list(range(21, total, 20)):\n",
    "        mm_params['r'] = _\n",
    "        new_frame = return_single_table_from_finviz(position, base_url, mm_params)\n",
    "        results = results.append(new_frame)\n",
    "\n",
    "        time.sleep(4)\n",
    "        print(_, 'is done')\n",
    "\n",
    "    return results\n",
    "\n",
    "def convert_datatypes_technical(df):\n",
    "    \"\"\"\n",
    "    Return the cleaned dataframe\n",
    "    \"\"\"\n",
    "    df.columns = df.iloc[0]\n",
    "    df.drop(index=[0], inplace=True)\n",
    "    df.set_index('Ticker', inplace=True)\n",
    "    del df['No.']\n",
    "\n",
    "    # Convert columns from object type to numeric type\n",
    "\n",
    "    df[technical_numeric_list] = df[technical_numeric_list].apply(pd.to_numeric, errors='coerce')\n",
    "\n",
    "    for item in technical_percentage_list:\n",
    "        df[item] = (pd.to_numeric(df[item].replace(\"-\", \"100000\").str.strip('%'))\n",
    "                    .div(100).replace(1000.000, np.NaN))\n",
    "\n",
    "    del df['Change']\n",
    "    del df['Volume']\n",
    "\n",
    "    return df\n",
    "\n",
    "\n",
    "\n",
    "\n",
    "\n",
    "\n"
   ]
  },
  {
   "cell_type": "code",
   "execution_count": 6,
   "metadata": {},
   "outputs": [
    {
     "name": "stdout",
     "output_type": "stream",
     "text": [
      "778\n",
      "21 is done\n",
      "41 is done\n"
     ]
    }
   ],
   "source": [
    "df = scrap_TT()\n"
   ]
  },
  {
   "cell_type": "code",
   "execution_count": 26,
   "metadata": {},
   "outputs": [],
   "source": [
    "dff = df.copy(deep=True)"
   ]
  },
  {
   "cell_type": "code",
   "execution_count": 27,
   "metadata": {},
   "outputs": [],
   "source": [
    "result = convert_datatypes_technical(dff)"
   ]
  },
  {
   "cell_type": "code",
   "execution_count": 30,
   "metadata": {},
   "outputs": [
    {
     "data": {
      "text/plain": [
       "(60, 11)"
      ]
     },
     "execution_count": 30,
     "metadata": {},
     "output_type": "execute_result"
    }
   ],
   "source": [
    "result.shape"
   ]
  },
  {
   "cell_type": "code",
   "execution_count": null,
   "metadata": {},
   "outputs": [],
   "source": []
  }
 ],
 "metadata": {
  "kernelspec": {
   "display_name": "Python 3",
   "language": "python",
   "name": "python3"
  },
  "language_info": {
   "codemirror_mode": {
    "name": "ipython",
    "version": 3
   },
   "file_extension": ".py",
   "mimetype": "text/x-python",
   "name": "python",
   "nbconvert_exporter": "python",
   "pygments_lexer": "ipython3",
   "version": "3.8.3"
  }
 },
 "nbformat": 4,
 "nbformat_minor": 4
}
